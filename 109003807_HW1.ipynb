{
  "cells": [
    {
      "cell_type": "markdown",
      "metadata": {
        "id": "view-in-github",
        "colab_type": "text"
      },
      "source": [
        "<a href=\"https://colab.research.google.com/github/mdcctsou/nthu_hw/blob/main/109003807_HW1.ipynb\" target=\"_parent\"><img src=\"https://colab.research.google.com/assets/colab-badge.svg\" alt=\"Open In Colab\"/></a>"
      ]
    },
    {
      "cell_type": "markdown",
      "metadata": {
        "id": "uYBqFviS2vDc"
      },
      "source": [
        "# Loop"
      ]
    },
    {
      "cell_type": "code",
      "execution_count": null,
      "metadata": {
        "colab": {
          "base_uri": "https://localhost:8080/"
        },
        "id": "t9_gRP302zEw",
        "outputId": "3db5635d-7b69-4c93-a935-447582c56bda"
      },
      "outputs": [
        {
          "name": "stdout",
          "output_type": "stream",
          "text": [
            "method 1: Multiplication\n",
            "1\n",
            "4\n",
            "9\n",
            "16\n",
            "25\n",
            "36\n",
            "49\n",
            "64\n",
            "81\n",
            "100\n",
            "method 2: Exponentiation\n",
            "1\n",
            "4\n",
            "9\n",
            "16\n",
            "25\n",
            "36\n",
            "49\n",
            "64\n",
            "81\n",
            "100\n"
          ]
        }
      ],
      "source": [
        "# Print square numbers from 1-10 印出 1-10的平方數\n",
        "# ''''''的文字註解是個常見的錯誤，因為把註解文字放到了程式碼執行的區域。\n",
        "#在程式碼中，'''...''' 符號通常用來建立多行字串，Python 會將它視為一個有效的字串物件。即使這個字串沒有被賦予變數或被 print() 函數呼叫，它還是會被 Python 的互動式環境或某些編輯器給自動顯示出來。\n",
        "#尤其在 Jupyter Notebook 或 VS Code 這種互動式環境中，如果一個多行字串是單獨一行並且是該行最後一個執行的物件，它就會被自動印出。\n",
        "#雖然 Python 沒有內建的「多行註解」語法，但許多開發者會利用多行字串來達到這個效果。你只要確保多行字串不是獨立一行，或者不作為最後一個物件，它就不會被印出來。\n",
        "'''預期的print:\n",
        "1\n",
        "4\n",
        "9\n",
        "16\n",
        "25\n",
        "36\n",
        "49\n",
        "64\n",
        "81\n",
        "100'''\n",
        "\n",
        "#方法一: a * b ，Multiplication--> Product of a and b\n",
        "#要加上range，否則程式碼會以為是tuple，輸出就會是1, 100\n",
        "#range(起始值, 結束值) 輸出是整數，規則是 不包含結束值。所以，如果要讓迴圈跑到 10，結束值必須設定為 11\n",
        "print(\"method 1: Multiplication\")\n",
        "for i in range (1,11):\n",
        "    print (i * i)\n",
        "\n",
        "print(\"method 2: Exponentiation\")\n",
        "#方法二: a ** b ，Exponentiation --> a raised to the power of b\n",
        "for i in range (1,11):\n",
        "    print (i ** 2)\n",
        "\n"
      ]
    },
    {
      "cell_type": "code",
      "execution_count": null,
      "metadata": {
        "colab": {
          "base_uri": "https://localhost:8080/"
        },
        "id": "BmdQRoy021dZ",
        "outputId": "1c08e199-2ec8-4407-d8db-9cdaee69222c"
      },
      "outputs": [
        {
          "name": "stdout",
          "output_type": "stream",
          "text": [
            "method 1: {:<}\n",
            "1x1= 1 2x1= 2 3x1= 3 4x1= 4 5x1= 5 6x1= 6 7x1= 7 8x1= 8 9x1= 9 \n",
            "1x2= 2 2x2= 4 3x2= 6 4x2= 8 5x2=10 6x2=12 7x2=14 8x2=16 9x2=18 \n",
            "1x3= 3 2x3= 6 3x3= 9 4x3=12 5x3=15 6x3=18 7x3=21 8x3=24 9x3=27 \n",
            "1x4= 4 2x4= 8 3x4=12 4x4=16 5x4=20 6x4=24 7x4=28 8x4=32 9x4=36 \n",
            "1x5= 5 2x5=10 3x5=15 4x5=20 5x5=25 6x5=30 7x5=35 8x5=40 9x5=45 \n",
            "1x6= 6 2x6=12 3x6=18 4x6=24 5x6=30 6x6=36 7x6=42 8x6=48 9x6=54 \n",
            "1x7= 7 2x7=14 3x7=21 4x7=28 5x7=35 6x7=42 7x7=49 8x7=56 9x7=63 \n",
            "1x8= 8 2x8=16 3x8=24 4x8=32 5x8=40 6x8=48 7x8=56 8x8=64 9x8=72 \n",
            "1x9= 9 2x9=18 3x9=27 4x9=36 5x9=45 6x9=54 7x9=63 8x9=72 9x9=81 \n",
            "method 2: str.ljust()\n",
            "1x1=1  2x1=2  3x1=3  4x1=4  5x1=5  6x1=6  7x1=7  8x1=8  9x1=9  \n",
            "1x2=2  2x2=4  3x2=6  4x2=8  5x2=10 6x2=12 7x2=14 8x2=16 9x2=18 \n",
            "1x3=3  2x3=6  3x3=9  4x3=12 5x3=15 6x3=18 7x3=21 8x3=24 9x3=27 \n",
            "1x4=4  2x4=8  3x4=12 4x4=16 5x4=20 6x4=24 7x4=28 8x4=32 9x4=36 \n",
            "1x5=5  2x5=10 3x5=15 4x5=20 5x5=25 6x5=30 7x5=35 8x5=40 9x5=45 \n",
            "1x6=6  2x6=12 3x6=18 4x6=24 5x6=30 6x6=36 7x6=42 8x6=48 9x6=54 \n",
            "1x7=7  2x7=14 3x7=21 4x7=28 5x7=35 6x7=42 7x7=49 8x7=56 9x7=63 \n",
            "1x8=8  2x8=16 3x8=24 4x8=32 5x8=40 6x8=48 7x8=56 8x8=64 9x8=72 \n",
            "1x9=9  2x9=18 3x9=27 4x9=36 5x9=45 6x9=54 7x9=63 8x9=72 9x9=81 \n",
            "method 3: Using a matrix+enumerate()\n",
            "1x1= 1 2x1= 2 3x1= 3 4x1= 4 5x1= 5 6x1= 6 7x1= 7 8x1= 8 9x1= 9 \n",
            "1x2= 2 2x2= 4 3x2= 6 4x2= 8 5x2=10 6x2=12 7x2=14 8x2=16 9x2=18 \n",
            "1x3= 3 2x3= 6 3x3= 9 4x3=12 5x3=15 6x3=18 7x3=21 8x3=24 9x3=27 \n",
            "1x4= 4 2x4= 8 3x4=12 4x4=16 5x4=20 6x4=24 7x4=28 8x4=32 9x4=36 \n",
            "1x5= 5 2x5=10 3x5=15 4x5=20 5x5=25 6x5=30 7x5=35 8x5=40 9x5=45 \n",
            "1x6= 6 2x6=12 3x6=18 4x6=24 5x6=30 6x6=36 7x6=42 8x6=48 9x6=54 \n",
            "1x7= 7 2x7=14 3x7=21 4x7=28 5x7=35 6x7=42 7x7=49 8x7=56 9x7=63 \n",
            "1x8= 8 2x8=16 3x8=24 4x8=32 5x8=40 6x8=48 7x8=56 8x8=64 9x8=72 \n",
            "1x9= 9 2x9=18 3x9=27 4x9=36 5x9=45 6x9=54 7x9=63 8x9=72 9x9=81 \n"
          ]
        }
      ],
      "source": [
        "# Print 9*9 multiplication table 列印9*9乘法表\n",
        "'''\n",
        "預期的print:\n",
        "1x1= 1 2x1= 2 3x1= 3 4x1= 4 5x1= 5 6x1= 6 7x1= 7 8x1= 8 9x1= 9\n",
        "1x2= 2 2x2= 4 3x2= 6 4x2= 8 5x2=10 6x2=12 7x2=14 8x2=16 9x2=18\n",
        "1x3= 3 2x3= 6 3x3= 9 4x3=12 5x3=15 6x3=18 7x3=21 8x3=24 9x3=27\n",
        "1x4= 4 2x4= 8 3x4=12 4x4=16 5x4=20 6x4=24 7x4=28 8x4=32 9x4=36\n",
        "1x5= 5 2x5=10 3x5=15 4x5=20 5x5=25 6x5=30 7x5=35 8x5=40 9x5=45\n",
        "1x6= 6 2x6=12 3x6=18 4x6=24 5x6=30 6x6=36 7x6=42 8x6=48 9x6=54\n",
        "1x7= 7 2x7=14 3x7=21 4x7=28 5x7=35 6x7=42 7x7=49 8x7=56 9x7=63\n",
        "1x8= 8 2x8=16 3x8=24 4x8=32 5x8=40 6x8=48 7x8=56 8x8=64 9x8=72\n",
        "1x9= 9 2x9=18 3x9=27 4x9=36 5x9=45 6x9=54 7x9=63 8x9=72 9x9=81\n",
        "'''\n",
        "\n",
        "# method 1: for loop\n",
        "# 因為有row and column，所以會用到2個loop\n",
        "# 記得print不同東西之間需要加上comma\n",
        "# 使用 end=' ' 來防止換行，並在每個結果之間加上一個空格\n",
        "# 由於每個結果的字元長度不同，簡單地用一個空格作為分隔符，就會導致後面的內容無法對齊，讓整個表格看起來歪斜。\n",
        "print(\"method 1: {:<}\")  #format() 方法和 {:<}\n",
        "for i in range (1,10):\n",
        "    for j in range (1,10):\n",
        "        #預期的九九乘法表是 1x1, 2x1, 3x1... 這樣的結構，這表示外層迴圈應該是 j (列)，內層迴圈是 i (行)\n",
        "        #print(f\"{j}x{i}={i*j}\", end=' ') # 這樣寫也可以，只是列印出來不會對齊工整\n",
        "        #print (j,'X',i,'=',i*j, end=' ') 這樣寫也可以，只是comma都會預設有空格，比較醜\n",
        "        print(f\"{j}x{i}={i*j:>2}\", end=' ')  # >代表向右對齊，<代表向左對齊，2代表字元數會佔據至少2個字元的寬度\n",
        "    # 內層迴圈結束後，使用一個空的 print() 來換行，看起來是空的，但是有隱藏的換行號\n",
        "    print()\n",
        "\n",
        "print(\"method 2: str.ljust()\")  #str.ljust()\n",
        "for i in range (1,10):\n",
        "    for j in range (1,10):\n",
        "        # 建立要列印的字串\n",
        "        s = f\"{j}x{i}={i*j}\"\n",
        "        # 使用 ljust() 方法將字串靠左對齊，並填充至至少7個字元長度\n",
        "        print(s.ljust(7), end='')\n",
        "    # 內層迴圈結束後，使用一個空的 print() 來換行，看起來是空的，但是有隱藏的換行號\n",
        "    print ()\n",
        "\n",
        "\n",
        "# method 3: matrix + enumerate()\n",
        "# 這個方法其實還是會用到 for loop, 只是計算的時候是透過矩陣乘法\n",
        "import numpy as np\n",
        "print(\"method 3: Using a matrix+enumerate()\")\n",
        "\n",
        "# 建立一個 1x9 的橫向向量，代表 1 到 9\n",
        "row_vector = np.arange(1, 10).reshape(1, 9)\n",
        "#沒有rechape: (9,)\n",
        "#有rechape: (1,9)\n",
        "#print (row_vector.shape)\n",
        "\n",
        "# 建立一個 9x1 的直向向量，代表 1 到 9\n",
        "col_vector = np.arange(1, 10).reshape(9, 1)\n",
        "#print (col_vector.shape)\n",
        "\n",
        "# 使用矩陣乘法來產生九九乘法表\n",
        "multiplication_table = col_vector * row_vector\n",
        "\n",
        "'''\n",
        "# 列印結果，並加入格式化以對齊表格--> 這個方法無法列印出索引\n",
        "for row in multiplication_table:\n",
        "    for value in row:\n",
        "        print(f\"{value:<3}\", end=' ') # 這裡使用 f-string 和對齊格式\n",
        "    print()\n",
        "'''\n",
        "# 使用 enumerate 來取得列索引 (i)\n",
        "for i, row in enumerate(multiplication_table):\n",
        "    # 使用 enumerate 來取得行索引 (j) 和值 (value)\n",
        "    for j, value in enumerate(row):\n",
        "        # 由於索引從 0 開始，我們需要加 1 來得到正確的乘數\n",
        "        # j+1 代表被乘數，i+1 代表乘數\n",
        "        print(f\"{(j+1)}x{(i+1)}={value:>2}\", end=' ')\n",
        "    print()\n",
        "\n",
        "\n"
      ]
    },
    {
      "cell_type": "code",
      "execution_count": null,
      "metadata": {
        "colab": {
          "base_uri": "https://localhost:8080/"
        },
        "id": "kREubzqkR5hT",
        "outputId": "41b79b52-14a5-45f4-8628-2bd622149386"
      },
      "outputs": [
        {
          "name": "stdout",
          "output_type": "stream",
          "text": [
            "method 1: matrix with Reverse\n",
            "9x9=81 8x9=72 7x9=63 6x9=54 5x9=45 4x9=36 3x9=27 2x9=18 1x9= 9 \n",
            "9x8=72 8x8=64 7x8=56 6x8=48 5x8=40 4x8=32 3x8=24 2x8=16 1x8= 8 \n",
            "9x7=63 8x7=56 7x7=49 6x7=42 5x7=35 4x7=28 3x7=21 2x7=14 1x7= 7 \n",
            "9x6=54 8x6=48 7x6=42 6x6=36 5x6=30 4x6=24 3x6=18 2x6=12 1x6= 6 \n",
            "9x5=45 8x5=40 7x5=35 6x5=30 5x5=25 4x5=20 3x5=15 2x5=10 1x5= 5 \n",
            "9x4=36 8x4=32 7x4=28 6x4=24 5x4=20 4x4=16 3x4=12 2x4= 8 1x4= 4 \n",
            "9x3=27 8x3=24 7x3=21 6x3=18 5x3=15 4x3=12 3x3= 9 2x3= 6 1x3= 3 \n",
            "9x2=18 8x2=16 7x2=14 6x2=12 5x2=10 4x2= 8 3x2= 6 2x2= 4 1x2= 2 \n",
            "9x1= 9 8x1= 8 7x1= 7 6x1= 6 5x1= 5 4x1= 4 3x1= 3 2x1= 2 1x1= 1 \n",
            "method 1: matrix without Reverse\n",
            "9x9=81 8x9=72 7x9=63 6x9=54 5x9=45 4x9=36 3x9=27 2x9=18 1x9= 9 \n",
            "9x8=72 8x8=64 7x8=56 6x8=48 5x8=40 4x8=32 3x8=24 2x8=16 1x8= 8 \n",
            "9x7=63 8x7=56 7x7=49 6x7=42 5x7=35 4x7=28 3x7=21 2x7=14 1x7= 7 \n",
            "9x6=54 8x6=48 7x6=42 6x6=36 5x6=30 4x6=24 3x6=18 2x6=12 1x6= 6 \n",
            "9x5=45 8x5=40 7x5=35 6x5=30 5x5=25 4x5=20 3x5=15 2x5=10 1x5= 5 \n",
            "9x4=36 8x4=32 7x4=28 6x4=24 5x4=20 4x4=16 3x4=12 2x4= 8 1x4= 4 \n",
            "9x3=27 8x3=24 7x3=21 6x3=18 5x3=15 4x3=12 3x3= 9 2x3= 6 1x3= 3 \n",
            "9x2=18 8x2=16 7x2=14 6x2=12 5x2=10 4x2= 8 3x2= 6 2x2= 4 1x2= 2 \n",
            "9x1= 9 8x1= 8 7x1= 7 6x1= 6 5x1= 5 4x1= 4 3x1= 3 2x1= 2 1x1= 1 \n"
          ]
        }
      ],
      "source": [
        "# Transpose the 9*9 multiplication table 轉置9*9乘法表\n",
        "'''\n",
        "預期print:\n",
        "9x9=81 8x9=72 7x9=63 6x9=54 5x9=45 4x9=36 3x9=27 2x9=18 1x9= 9\n",
        "9x8=72 8x8=64 7x8=56 6x8=48 5x8=40 4x8=32 3x8=24 2x8=16 1x8= 8\n",
        "9x7=63 8x7=56 7x7=49 6x7=42 5x7=35 4x7=28 3x7=21 2x7=14 1x7= 7\n",
        "9x6=54 8x6=48 7x6=42 6x6=36 5x6=30 4x6=24 3x6=18 2x6=12 1x6= 6\n",
        "9x5=45 8x5=40 7x5=35 6x5=30 5x5=25 4x5=20 3x5=15 2x5=10 1x5= 5\n",
        "9x4=36 8x4=32 7x4=28 6x4=24 5x4=20 4x4=16 3x4=12 2x4= 8 1x4= 4\n",
        "9x3=27 8x3=24 7x3=21 6x3=18 5x3=15 4x3=12 3x3= 9 2x3= 6 1x3= 3\n",
        "9x2=18 8x2=16 7x2=14 6x2=12 5x2=10 4x2= 8 3x2= 6 2x2= 4 1x2= 2\n",
        "9x1= 9 8x1= 8 7x1= 7 6x1= 6 5x1= 5 4x1= 4 3x1= 3 2x1= 2 1x1= 1\n",
        "'''\n",
        "\n",
        "\n",
        "# 轉置（Transpose）與反向讀取（Reverse）的定義\n",
        "# 範例的結果其實不是轉置（Transpose），而是反向讀取（Reverse）\n",
        " #基本上使用反向讀取（Reverse）即可達成\n",
        "\n",
        "# method 1: matrix with Reverse\n",
        "# 這個方法就是將上述的矩陣乘法再加上Reverse\n",
        "# 其實還是會用到 for loop, 只是計算的時候是透過矩陣乘法\n",
        "import numpy as np\n",
        "print(\"method 1: matrix with Reverse\")\n",
        "\n",
        "# 建立一個 1x9 的橫向向量，代表 1 到 9\n",
        "row_vector = np.arange(1, 10).reshape(1, 9)\n",
        "#沒有rechape: (9,)\n",
        "#有rechape: (1,9)\n",
        "#print (row_vector.shape)\n",
        "\n",
        "# 建立一個 9x1 的直向向量，代表 1 到 9\n",
        "col_vector = np.arange(1, 10).reshape(9, 1)\n",
        "#print (col_vector.shape)\n",
        "\n",
        "# 使用矩陣乘法來產生九九乘法表\n",
        "multiplication_table = col_vector * row_vector\n",
        "# 使用切片反轉行和列，得到期望的數值結果\n",
        "multiplication_table = multiplication_table[::-1, ::-1]\n",
        "#multiplication_table = multiplication_table.transpose()[::-1, ::-1] XXX 不需要transpose\n",
        "\n",
        "'''\n",
        "[::-1, :]：反轉行（從下往上讀）。\n",
        "[:, ::-1]：在第一步的基礎上，反轉列（從右往左讀）。\n",
        "'''\n",
        "# 列印結果，並加入格式化以對齊表格\n",
        "# 使用 enumerate 來取得列索引 (i)\n",
        "# 如果想讓列印結果符合預期 (9x9, 8x9...)\n",
        "for i, row in enumerate(multiplication_table):\n",
        "    for j, value in enumerate(row):\n",
        "        # 轉置後， row 的索引 i 代表的是原本的 col_vector (1-9)\n",
        "        # column 的索引 j 代表的是原本的 row_vector (1-9)\n",
        "        # 所以 j+1 代表的是 1 到 9，i+1 也代表 1 到 9\n",
        "        # 但是，要印出 9x9, 8x9... 這樣的格式\n",
        "        # 需要讓被乘數從 9 開始遞減，而乘數保持 9 不變\n",
        "        # 因此可以這樣調整：\n",
        "        multiplied = 9 - i\n",
        "        multiplier = 9 - j\n",
        "        print(f\"{multiplier}x{multiplied}={value:>2}\", end=' ')\n",
        "    print()\n",
        "\n",
        "\n",
        "# method 2: matrix without Reverse\n",
        "#一開始的矩陣就是反轉的，乘法完後就可以直接透過迴圈列印，不須經過Reverse\n",
        "import numpy as np\n",
        "print(\"method 1: matrix without Reverse\")\n",
        "\n",
        "# 建立 9 到 1 的向量\n",
        "row_vector = np.arange(9, 0, -1).reshape(1, 9)\n",
        "col_vector = np.arange(9, 0, -1).reshape(9, 1)\n",
        "\n",
        "# 取得完整的九九乘法表\n",
        "multiplication_table = col_vector * row_vector\n",
        "\n",
        "# 轉置並反轉，以達到預期效果 XXX 不需要\n",
        "#transposed_and_reversed = multiplication_table.transpose()[::-1, ::-1]\n",
        "\n",
        "for i, row in enumerate(multiplication_table):\n",
        "    for j, value in enumerate(row):\n",
        "        # 用 reversed_col 和 reversed_row 取得正確的數字\n",
        "        print(f\"{row_vector[0][j]}x{col_vector[i][0]}={value:>2}\", end=' ')\n",
        "    print()\n",
        "\n",
        "\n",
        "\n",
        "\n",
        "\n"
      ]
    },
    {
      "cell_type": "code",
      "execution_count": null,
      "metadata": {
        "colab": {
          "base_uri": "https://localhost:8080/"
        },
        "id": "OdRJWkcX236g",
        "outputId": "3f1b5dbf-4031-4f9b-dc46-aee662b351e1"
      },
      "outputs": [
        {
          "name": "stdout",
          "output_type": "stream",
          "text": [
            "請輸入使用者帳號/Please enter your ID: root\n",
            "請輸入密碼/Please enter your password: 1234\n",
            "登入成功！/Login success!\n"
          ]
        }
      ],
      "source": [
        "# User account password check, so that the user can enter the account password 3 times, the id is root, the password is 1234\n",
        "# 使用者帳號密碼檢查，讓使用者可以輸入3次帳號密碼，ID為root，密碼為1234\n",
        "'''\n",
        "預期print:\n",
        "Please enter your ID:root\n",
        "Please enter your password:1234\n",
        "Login success!\n",
        "'''\n",
        "\n",
        "# 設定正確的帳號和密碼\n",
        "correct_username = \"root\"\n",
        "correct_password = \"1234\"\n",
        "\n",
        "# 讓使用者輸入三次\n",
        "for i in range(3):\n",
        "    # 提示使用者輸入帳號和密碼\n",
        "    username = input(\"請輸入使用者帳號/Please enter your ID: \")\n",
        "    print(\"請輸入使用者帳號/Please enter your ID:\", username)\n",
        "    password = input(\"請輸入密碼/Please enter your password: \")\n",
        "    print(\"請輸入密碼/Please enter your password:\", password)\n",
        "\n",
        "\n",
        "    # 檢查帳號密碼是否正確\n",
        "    if username == correct_username and password == correct_password:\n",
        "        print(\"登入成功！/Login success!\")\n",
        "        break  # 如果成功登入，就跳出迴圈\n",
        "    else:\n",
        "        # 計算剩餘嘗試次數\n",
        "        remaining_attempts = 2 - i\n",
        "        # 判斷是否還有機會\n",
        "        if remaining_attempts > 0:\n",
        "            print(f\"帳號或密碼錯誤，你還有 {remaining_attempts} 次機會。\")\n",
        "        else:\n",
        "            print(\"帳號或密碼錯誤，登入失敗。/Login fail !\")\n",
        "            #這裡不用再加上break,因為loop只有三次，走到這裡自動會結束\n",
        "\n",
        "\n"
      ]
    },
    {
      "cell_type": "markdown",
      "metadata": {
        "id": "bPO4emuqhse3"
      },
      "source": [
        "# Function"
      ]
    },
    {
      "cell_type": "code",
      "execution_count": null,
      "metadata": {
        "colab": {
          "base_uri": "https://localhost:8080/"
        },
        "id": "_pX-D2bphwYL",
        "outputId": "05bee1eb-8009-4c66-b561-c7908f276bcc"
      },
      "outputs": [
        {
          "name": "stdout",
          "output_type": "stream",
          "text": [
            "Enter a number: 2\n",
            "True!\n"
          ]
        }
      ],
      "source": [
        "# Write a function to check whether it is even 寫一個函式判斷是否為偶數\n",
        "'''\n",
        "預期print:\n",
        "Enter a number: 2\n",
        "True\n",
        "'''\n",
        "\n",
        "# 提示使用者輸入一個數字\n",
        "number = input(\"Enter a number: \")\n",
        "print(\"Enter a number:\", number)\n",
        "\n",
        "'''\n",
        "# 檢查是否為偶數\n",
        "if int(number) / 2 is int:\n",
        "        print(\"True!\")\n",
        "else:\n",
        "        print(\"False!\")\n",
        "'''\n",
        "# 不能使用上述方法，因為python的4則運算會自動把數值變為float, 自然就不會屬於int\n",
        "\n",
        "# 使用取餘數 (modulo) 運算符 %\n",
        "# 檢查是否為偶數\n",
        "if  float(number) % 2 == 0:\n",
        "    print(\"True!\")\n",
        "else:\n",
        "    print(\"False!\")\n",
        "\n",
        "\n",
        "\n",
        "\n"
      ]
    },
    {
      "cell_type": "code",
      "execution_count": null,
      "metadata": {
        "colab": {
          "base_uri": "https://localhost:8080/"
        },
        "id": "yzeaaVFFWjTf",
        "outputId": "c48649ad-8c2e-4198-cba7-d972ff202528"
      },
      "outputs": [
        {
          "name": "stdout",
          "output_type": "stream",
          "text": [
            "Enter a number: 2.55\n",
            "not an integer!\n"
          ]
        }
      ],
      "source": [
        "# Write a function to check whether it is even, odd, or not an integer. 寫一個函式判斷該數為偶數、奇數，還是非整數\n",
        "'''\n",
        "預期print:\n",
        "Enter a number: 2.55\n",
        "not an integer\n",
        "'''\n",
        "\n",
        "# 提示使用者輸入一個數字\n",
        "number = input(\"Enter a number: \")\n",
        "print(\"Enter a number:\", number)\n",
        "\n",
        "\n",
        "# 使用取餘數 (modulo) 運算符 %\n",
        "# 1.先檢查是否為整數，排除非整數\n",
        "if float(number) % 1 != 0:\n",
        "    print(\"not an integer!\")\n",
        "# 2.判斷是否為偶數或奇數\n",
        "else:\n",
        "    if float(number) % 2 == 0:\n",
        "        print(\"it is even!\")\n",
        "    elif float(number) % 2 == 1:\n",
        "        print(\"it is odd!\")\n",
        "\n",
        "\n",
        "\n"
      ]
    },
    {
      "cell_type": "code",
      "execution_count": null,
      "metadata": {
        "colab": {
          "base_uri": "https://localhost:8080/"
        },
        "id": "LA7uy4DYkqZP",
        "outputId": "f6702ffc-080b-4e97-a730-caf36f4309e7"
      },
      "outputs": [
        {
          "name": "stdout",
          "output_type": "stream",
          "text": [
            "Enter a number: 2\n",
            "2 is a prime number!\n"
          ]
        }
      ],
      "source": [
        "# Write a function to check whether it is prime number 寫一個函式判斷是否為質數\n",
        "# 定義：大於1的自然數中，除了1和該數自身外，無法被其他自然數整除的數\n",
        "'''\n",
        "預期print:\n",
        "Enter a number: 2\n",
        "2 is not a prime number.\n",
        "'''\n",
        "\n",
        "# 提示使用者輸入一個數字\n",
        "number = input(\"Enter a number: \")\n",
        "print(\"Enter a number:\", number)\n",
        "\n",
        "\n",
        "# 使用取餘數 (modulo) 運算符 %\n",
        "# 1.先檢查是否為>1  且是整數，排除非整數\n",
        "if (float(number) % 1 != 0) or (float(number) <= 1):\n",
        "    print(number,\"is not a prime number!\")\n",
        "# 2.判斷是否為質數\n",
        "# 這邊會用到loop, 數字大於1且為整數，開始檢查是否有能被其他數整除，也就是1到該數之間是否有因數\n",
        "else:\n",
        "    # 迴圈從2開始檢查到這個數字本身-1\n",
        "        for i in range(2, int(number)):\n",
        "            if (float(number) % i== 0) :\n",
        "                print(number,\"is not a prime number!\")\n",
        "                break           # 找到因數後，立即跳出迴圈\n",
        "        else:\n",
        "            print(number,\"is a prime number!\")\n",
        "\n",
        "\n"
      ]
    },
    {
      "cell_type": "markdown",
      "metadata": {
        "id": "ehjQinHLbZw1"
      },
      "source": [
        "# Class"
      ]
    },
    {
      "cell_type": "code",
      "execution_count": null,
      "metadata": {
        "id": "YEVoXGxybjCZ",
        "outputId": "4d9d324c-db71-4b07-9899-2604dd1cba67"
      },
      "outputs": [
        {
          "name": "stdout",
          "output_type": "stream",
          "text": [
            "Account_holder: John Doe; Initial Balance: $100\n",
            "Deposited $50. New balance: $150\n",
            "Insufficient funds. Withdrawal amount exceeds current balance.\n",
            "Withdrew $30. New balance: $120\n",
            "Final balance for John Doe: $120\n"
          ]
        }
      ],
      "source": [
        "# Create a class named BankAccount to simulate a simple bank account. The class should have the following features:\n",
        "# Attributes:\n",
        "#   account_holder (the name of the account holder)\n",
        "#   balance (the balance, default is 0)\n",
        "\n",
        "# Methods:\n",
        "#   deposit(amount): Adds the specified amount to the balance. The amount should be positive. If the amount is not positive, print an appropriate message.\n",
        "#   withdraw(amount): Deducts the specified amount from the balance. The amount should be positive and must not exceed the current balance. If the amount is invalid or exceeds the balance, print an appropriate message.\n",
        "#   get_balance(): Returns the current balance of the account.\n",
        "\n",
        "# Test Cases:\n",
        "#   Create an account with the account holder name \"John Doe\" and an initial balance of 100.\n",
        "#   Deposit 50.\n",
        "#   Attempt to withdraw 200 (should display an error message).\n",
        "#   Withdraw 30.\n",
        "#   Print the final balance.\n",
        "\n",
        "\n",
        "# 這段程式碼建立了一個名為 BankAccount 的類別（class），用來模擬一個簡單的銀行帳戶。類別就像是個藍圖，定義了物件應該具備的屬性（資料）和方法（行為）。\n",
        "class BankAccount:\n",
        "    \"\"\"A simple class to simulate a bank account.\"\"\"\n",
        "\n",
        "# __init__ 方法：這是一個「初始化」方法。當你建立一個 BankAccount 物件時，這個方法會自動執行。它的作用是為新建立的帳戶設定初始值，也就是帳戶持有人和初始餘額。\n",
        "# self 是一個慣用的參數名稱，代表類別的當前實例（instance）。在 BankAccount 類別中，self 指向你正在操作的那個特定帳戶。\n",
        "# account_holder 是一個屬性（或稱實例變數），用來儲存帳戶持有人的姓名。在 __init__ 方法中，self.account_holder = account_holder 這行程式碼，會將傳入的姓名值，賦予給這個物件的一個屬性。\n",
        "# balance=0 是 __init__ 方法中一個帶有預設值的參數。這表示，如果你在建立 BankAccount 物件時沒有指定初始餘額，balance 的值就會自動被設定為 0。\n",
        "    def __init__(self, account_holder, balance=0):\n",
        "        self.account_holder = account_holder\n",
        "        self.balance = balance\n",
        "        print(f\"Account_holder: {self.account_holder}; Initial Balance: ${self.balance}\")\n",
        "        #print(\"account_holder:\", account_holder,\";\",'Initial Balance:',balance)\n",
        "\n",
        "# 這個方法用來處理「存款」操作。它會檢查存入的金額是否大於零。如果是，就把金額加到帳戶餘額中；如果不是，就會印出錯誤訊息。\n",
        "    def deposit(self, amount):\n",
        "        \"\"\"Adds a positive amount to the balance.\"\"\"\n",
        "        if amount > 0:\n",
        "            self.balance += amount\n",
        "            print(f\"Deposited ${amount}. New balance: ${self.balance}\")\n",
        "        else:\n",
        "            print(\"Invalid deposit amount. Please enter a positive number.\")\n",
        "\n",
        "# 這個方法用來處理「提款」操作。它會執行兩項檢查：1.提款金額是否大於零。2.帳戶餘額是否足夠提款。\n",
        "# 如果這兩個條件都滿足，就會從帳戶餘額中扣除金額；否則，就會印出錯誤訊息。\n",
        "    def withdraw(self, amount):\n",
        "        \"\"\"Deducts a positive amount from the balance, if funds are sufficient.\"\"\"\n",
        "        if amount <= 0:\n",
        "            print(\"Invalid withdrawal amount. Please enter a positive number.\")\n",
        "        elif amount > self.balance:\n",
        "            print(\"Insufficient funds. Withdrawal amount exceeds current balance.\")\n",
        "        else:\n",
        "            self.balance -= amount\n",
        "            print(f\"Withdrew ${amount}. New balance: ${self.balance}\")\n",
        "\n",
        "#get_balance 方法：這是一個簡單的方法，用來回傳帳戶目前的餘額。\n",
        "    def get_balance(self):\n",
        "        \"\"\"Returns the current balance.\"\"\"\n",
        "        return self.balance\n",
        "\n",
        "# --- Test Cases ---\n",
        "\n",
        "# Create an account\n",
        "account = BankAccount(\"John Doe\", 100)\n",
        "\n",
        "# Deposit 50\n",
        "account.deposit(50)\n",
        "\n",
        "# Attempt to withdraw 200 (should display an error)\n",
        "account.withdraw(200)\n",
        "\n",
        "# Withdraw 30\n",
        "account.withdraw(30)\n",
        "\n",
        "# Print the final balance\n",
        "print(f\"Final balance for {account.account_holder}: ${account.get_balance()}\")"
      ]
    },
    {
      "cell_type": "code",
      "execution_count": null,
      "metadata": {
        "id": "nuVVTbqbdYQ3"
      },
      "outputs": [],
      "source": []
    }
  ],
  "metadata": {
    "colab": {
      "provenance": [],
      "toc_visible": true,
      "include_colab_link": true
    },
    "kernelspec": {
      "display_name": "Python 3",
      "name": "python3"
    },
    "language_info": {
      "codemirror_mode": {
        "name": "ipython",
        "version": 3
      },
      "file_extension": ".py",
      "mimetype": "text/x-python",
      "name": "python",
      "nbconvert_exporter": "python",
      "pygments_lexer": "ipython3",
      "version": "3.11.9"
    }
  },
  "nbformat": 4,
  "nbformat_minor": 0
}